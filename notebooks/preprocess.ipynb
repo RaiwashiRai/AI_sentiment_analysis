{
  "cells": [
    {
      "cell_type": "code",
      "execution_count": 4,
      "metadata": {
        "colab": {
          "base_uri": "https://localhost:8080/"
        },
        "id": "pMMsCTZOcwNf",
        "outputId": "3482d46f-6b6f-45c9-a203-150cbedd6b5d"
      },
      "outputs": [],
      "source": [
        "import pandas as pd\n",
        "import numpy as np\n",
        "# import tensorflow as tf\n",
        "\n",
        "dataset_path = \"../data/Hydra-Movie-Scrape.csv\"\n",
        "data = pd.read_csv(dataset_path)"
      ]
    },
    {
      "cell_type": "code",
      "execution_count": 6,
      "metadata": {},
      "outputs": [
        {
          "name": "stdout",
          "output_type": "stream",
          "text": [
            "['Patton Oswalt: Annihilation' 2017\n",
            " 'Patton Oswald, despite a personal tragedy, produces his best standup yet. Focusing on the tribulations of the Trump era and life after the loss of a loved one, Patton Oswald continues his journey to contribute joy to the world.'\n",
            " 'Patton Oswalt, despite a personal tragedy, produces his best standup yet. Focusing on the tribulations of the Trump era and life after the loss of a loved one, Oswalt continues his journey to contribute joy to the world.'\n",
            " 'tt7026230' 66 '4hZi5QaMBFc' 7.4\n",
            " 'https://hydramovies.com/wp-content/uploads/2018/04/Patton-Oswalt-Annihilation-Movie-Poster.jpg'\n",
            " 'Bobcat Goldthwait' 'Patton Oswalt' 'Patton Oswalt']\n"
          ]
        }
      ],
      "source": [
        "print(data[0, :])"
      ]
    }
  ],
  "metadata": {
    "colab": {
      "include_colab_link": true,
      "provenance": []
    },
    "kernelspec": {
      "display_name": "Python 3",
      "name": "python3"
    },
    "language_info": {
      "codemirror_mode": {
        "name": "ipython",
        "version": 3
      },
      "file_extension": ".py",
      "mimetype": "text/x-python",
      "name": "python",
      "nbconvert_exporter": "python",
      "pygments_lexer": "ipython3",
      "version": "3.11.5"
    },
    "orig_nbformat": 4
  },
  "nbformat": 4,
  "nbformat_minor": 0
}
